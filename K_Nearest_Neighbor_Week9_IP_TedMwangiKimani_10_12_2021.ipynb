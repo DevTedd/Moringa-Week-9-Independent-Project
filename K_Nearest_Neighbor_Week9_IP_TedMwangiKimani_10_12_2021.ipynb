{
  "nbformat": 4,
  "nbformat_minor": 0,
  "metadata": {
    "colab": {
      "name": "K-Nearest-Neighbor_Week9_IP_TedMwangiKimani_10/12/2021 ",
      "provenance": [],
      "collapsed_sections": []
    },
    "kernelspec": {
      "name": "python3",
      "display_name": "Python 3"
    },
    "language_info": {
      "name": "python"
    }
  },
  "cells": [
    {
      "cell_type": "markdown",
      "source": [
        "During this week’s Independent project, you will get to test the skills that you learned this week. More specifically, you will get the test your understanding of the following learning outcomes.\n",
        "\n",
        "**Overall Learning Outcomes**\n",
        "\n",
        "I can understand and apply supervised learning algorithms such as regression, decision trees, KNN, SVM, naive Bayes, random forests to solving business problems.\n",
        "I can understand the benefits, limitations, and requirements of various supervised learning algorithms."
      ],
      "metadata": {
        "id": "0unTuG3iKLPu"
      }
    },
    {
      "cell_type": "markdown",
      "source": [
        "# Experimental Procedure:\n",
        "\n",
        "\n",
        "* Download the two datasets from the given links:\n",
        "\n",
        "* Randomly partition each dataset into two parts i.e 80 - 20  sets.\n",
        "\n",
        "* For dataset 1, because we don't have the label for the test set, we will use the train set to create train and test data (i.e. splitting further), then perform K-nearest neighbor classification.\n",
        "\n",
        "\n",
        "\n",
        "* Compute the accuracy (percentage of correct classification).\n",
        "\n",
        "* Report the confusion matrix of each classifier.\n",
        "\n",
        "* Repeat step 2 to step 4 twice, each time splitting the datasets differently i.e. 70-30, 60-40, then note the outcomes of your modeling.\n",
        "\n",
        "* Suggest and apply at least one of the optimization techniques that you learned earlier this week.\n",
        "\n",
        "* Provide further recommendations to improve both classifiers."
      ],
      "metadata": {
        "id": "g9hWWJkaKRRq"
      }
    },
    {
      "cell_type": "markdown",
      "source": [
        "1. Defining the Question\n",
        "\n",
        "* a) Specifying the Data Analytic Question\n",
        "\n",
        "Can we predict who would survive the titanic cruise inccident \n",
        "\n",
        "* b) Defining the Metric for Success\n",
        "\n",
        "Having a model with a >70% accuracy rate\n",
        "\n",
        "* c) Understanding the context\n",
        "\n",
        "Using KNN to predict our feature variable\n",
        "\n",
        "* d) Recording the Experimental Design\n",
        "\n",
        "We will use the establish process learnt in moringa for analysis and documenting\n",
        "\n",
        "* e) Data Relevance\n",
        "The data is a common dataset used for learning ML techniques"
      ],
      "metadata": {
        "id": "DjqyOKfkiHrq"
      }
    },
    {
      "cell_type": "markdown",
      "source": [
        "**Lets get to it**\n",
        "\n",
        "\n",
        "Starting with imports"
      ],
      "metadata": {
        "id": "vFIbT3cOKmAM"
      }
    },
    {
      "cell_type": "code",
      "source": [
        "import pandas as pd\n",
        "import numpy as np\n",
        "import seaborn as sn\n"
      ],
      "metadata": {
        "id": "_U3Y7vAhK7Ab"
      },
      "execution_count": 1,
      "outputs": []
    },
    {
      "cell_type": "code",
      "source": [
        "#loading the datasets from my drive\n",
        "train = pd.read_csv('/content/drive/MyDrive/Week 9/train-knn.csv')\n",
        "test = pd.read_csv('/content/drive/MyDrive/Week 9/test-knn.csv')"
      ],
      "metadata": {
        "id": "NrUgGp_xL3KK"
      },
      "execution_count": 20,
      "outputs": []
    },
    {
      "cell_type": "markdown",
      "source": [
        "Lets get familiar with the datasets we have "
      ],
      "metadata": {
        "id": "U1wx_K3GMGuu"
      }
    },
    {
      "cell_type": "code",
      "source": [
        "train.info()\n",
        "#this is the titanic dataset"
      ],
      "metadata": {
        "colab": {
          "base_uri": "https://localhost:8080/"
        },
        "id": "nR65b4TkMBu1",
        "outputId": "cfd2db88-4b11-4271-cea3-a44e3751fc26"
      },
      "execution_count": 3,
      "outputs": [
        {
          "output_type": "stream",
          "name": "stdout",
          "text": [
            "<class 'pandas.core.frame.DataFrame'>\n",
            "RangeIndex: 891 entries, 0 to 890\n",
            "Data columns (total 12 columns):\n",
            " #   Column       Non-Null Count  Dtype  \n",
            "---  ------       --------------  -----  \n",
            " 0   PassengerId  891 non-null    int64  \n",
            " 1   Survived     891 non-null    int64  \n",
            " 2   Pclass       891 non-null    int64  \n",
            " 3   Name         891 non-null    object \n",
            " 4   Sex          891 non-null    object \n",
            " 5   Age          714 non-null    float64\n",
            " 6   SibSp        891 non-null    int64  \n",
            " 7   Parch        891 non-null    int64  \n",
            " 8   Ticket       891 non-null    object \n",
            " 9   Fare         891 non-null    float64\n",
            " 10  Cabin        204 non-null    object \n",
            " 11  Embarked     889 non-null    object \n",
            "dtypes: float64(2), int64(5), object(5)\n",
            "memory usage: 83.7+ KB\n"
          ]
        }
      ]
    },
    {
      "cell_type": "code",
      "source": [
        "#the top and size of the dataset\n",
        "print(train.head(5))\n",
        "print(train.shape)"
      ],
      "metadata": {
        "colab": {
          "base_uri": "https://localhost:8080/"
        },
        "id": "00IX7F7vMLC2",
        "outputId": "8101e4c3-ff78-43b2-f144-7c0d260532b0"
      },
      "execution_count": 5,
      "outputs": [
        {
          "output_type": "stream",
          "name": "stdout",
          "text": [
            "   PassengerId  Survived  Pclass  ...     Fare Cabin  Embarked\n",
            "0            1         0       3  ...   7.2500   NaN         S\n",
            "1            2         1       1  ...  71.2833   C85         C\n",
            "2            3         1       3  ...   7.9250   NaN         S\n",
            "3            4         1       1  ...  53.1000  C123         S\n",
            "4            5         0       3  ...   8.0500   NaN         S\n",
            "\n",
            "[5 rows x 12 columns]\n",
            "(891, 12)\n"
          ]
        }
      ]
    },
    {
      "cell_type": "code",
      "source": [
        "print(train.tail(5))\n",
        "#the bottom of the dataset"
      ],
      "metadata": {
        "colab": {
          "base_uri": "https://localhost:8080/"
        },
        "id": "k5G5W_7kMWA5",
        "outputId": "cada28aa-f31e-4e77-b9aa-5bb116acf341"
      },
      "execution_count": 6,
      "outputs": [
        {
          "output_type": "stream",
          "name": "stdout",
          "text": [
            "     PassengerId  Survived  Pclass  ...   Fare Cabin  Embarked\n",
            "886          887         0       2  ...  13.00   NaN         S\n",
            "887          888         1       1  ...  30.00   B42         S\n",
            "888          889         0       3  ...  23.45   NaN         S\n",
            "889          890         1       1  ...  30.00  C148         C\n",
            "890          891         0       3  ...   7.75   NaN         Q\n",
            "\n",
            "[5 rows x 12 columns]\n"
          ]
        }
      ]
    },
    {
      "cell_type": "code",
      "source": [
        "test.info()\n",
        "#missing the feature column"
      ],
      "metadata": {
        "colab": {
          "base_uri": "https://localhost:8080/"
        },
        "id": "geP-bSy9Mu-l",
        "outputId": "f0a37010-d432-43f8-90fd-4dc1fe20ed11"
      },
      "execution_count": 7,
      "outputs": [
        {
          "output_type": "stream",
          "name": "stdout",
          "text": [
            "<class 'pandas.core.frame.DataFrame'>\n",
            "RangeIndex: 418 entries, 0 to 417\n",
            "Data columns (total 11 columns):\n",
            " #   Column       Non-Null Count  Dtype  \n",
            "---  ------       --------------  -----  \n",
            " 0   PassengerId  418 non-null    int64  \n",
            " 1   Pclass       418 non-null    int64  \n",
            " 2   Name         418 non-null    object \n",
            " 3   Sex          418 non-null    object \n",
            " 4   Age          332 non-null    float64\n",
            " 5   SibSp        418 non-null    int64  \n",
            " 6   Parch        418 non-null    int64  \n",
            " 7   Ticket       418 non-null    object \n",
            " 8   Fare         417 non-null    float64\n",
            " 9   Cabin        91 non-null     object \n",
            " 10  Embarked     418 non-null    object \n",
            "dtypes: float64(2), int64(4), object(5)\n",
            "memory usage: 36.0+ KB\n"
          ]
        }
      ]
    },
    {
      "cell_type": "code",
      "source": [
        "#the top and size of the dataset\n",
        "print(test.head(5))\n",
        "print(test.shape)"
      ],
      "metadata": {
        "colab": {
          "base_uri": "https://localhost:8080/"
        },
        "id": "g4KqwPvfM4e3",
        "outputId": "fb09d959-ab88-4dff-d428-0770472aa60a"
      },
      "execution_count": 8,
      "outputs": [
        {
          "output_type": "stream",
          "name": "stdout",
          "text": [
            "   PassengerId  Pclass  ... Cabin Embarked\n",
            "0          892       3  ...   NaN        Q\n",
            "1          893       3  ...   NaN        S\n",
            "2          894       2  ...   NaN        Q\n",
            "3          895       3  ...   NaN        S\n",
            "4          896       3  ...   NaN        S\n",
            "\n",
            "[5 rows x 11 columns]\n",
            "(418, 11)\n"
          ]
        }
      ]
    },
    {
      "cell_type": "code",
      "source": [
        "print(test.tail(5))\n",
        "#the bottom of the dataset"
      ],
      "metadata": {
        "colab": {
          "base_uri": "https://localhost:8080/"
        },
        "id": "RjzuidlvM4Y8",
        "outputId": "0f4d8e3b-2549-48a3-bae3-817fbdfec8a4"
      },
      "execution_count": 9,
      "outputs": [
        {
          "output_type": "stream",
          "name": "stdout",
          "text": [
            "     PassengerId  Pclass                          Name  ...      Fare  Cabin  Embarked\n",
            "413         1305       3            Spector, Mr. Woolf  ...    8.0500    NaN         S\n",
            "414         1306       1  Oliva y Ocana, Dona. Fermina  ...  108.9000   C105         C\n",
            "415         1307       3  Saether, Mr. Simon Sivertsen  ...    7.2500    NaN         S\n",
            "416         1308       3           Ware, Mr. Frederick  ...    8.0500    NaN         S\n",
            "417         1309       3      Peter, Master. Michael J  ...   22.3583    NaN         C\n",
            "\n",
            "[5 rows x 11 columns]\n"
          ]
        }
      ]
    },
    {
      "cell_type": "markdown",
      "source": [
        "Lets do some cleaning of the dataset\n",
        "\n",
        "\n"
      ],
      "metadata": {
        "id": "PpIiLxGyMrok"
      }
    },
    {
      "cell_type": "code",
      "source": [
        "train.isnull().sum()"
      ],
      "metadata": {
        "colab": {
          "base_uri": "https://localhost:8080/"
        },
        "id": "k5XHSiZbMdp3",
        "outputId": "c482364f-7fe3-4e83-ec67-a6888646ba5d"
      },
      "execution_count": 11,
      "outputs": [
        {
          "output_type": "execute_result",
          "data": {
            "text/plain": [
              "PassengerId      0\n",
              "Survived         0\n",
              "Pclass           0\n",
              "Name             0\n",
              "Sex              0\n",
              "Age            177\n",
              "SibSp            0\n",
              "Parch            0\n",
              "Ticket           0\n",
              "Fare             0\n",
              "Cabin          687\n",
              "Embarked         2\n",
              "dtype: int64"
            ]
          },
          "metadata": {},
          "execution_count": 11
        }
      ]
    },
    {
      "cell_type": "code",
      "source": [
        "#We will replace the missing age values with the mean value, the embarked with the mode value.The cabin will not be used so no need\n",
        "\n",
        "mean_age = train['Age'].mean()\n",
        "train['Age'].fillna(value=mean_age, inplace=True)\n",
        "train['Age']"
      ],
      "metadata": {
        "colab": {
          "base_uri": "https://localhost:8080/"
        },
        "id": "unuezPz4NHxX",
        "outputId": "2acb8233-19eb-4ec2-c34d-793a1aacd1b6"
      },
      "execution_count": 22,
      "outputs": [
        {
          "output_type": "execute_result",
          "data": {
            "text/plain": [
              "0      22.000000\n",
              "1      38.000000\n",
              "2      26.000000\n",
              "3      35.000000\n",
              "4      35.000000\n",
              "         ...    \n",
              "886    27.000000\n",
              "887    19.000000\n",
              "888    29.699118\n",
              "889    26.000000\n",
              "890    32.000000\n",
              "Name: Age, Length: 891, dtype: float64"
            ]
          },
          "metadata": {},
          "execution_count": 22
        }
      ]
    },
    {
      "cell_type": "code",
      "source": [
        "#Finding which one has \n",
        "item_counts = train[\"Embarked\"].value_counts()\n",
        "print(item_counts)\n",
        "train['Embarked'].fillna(value='S', inplace=True)"
      ],
      "metadata": {
        "colab": {
          "base_uri": "https://localhost:8080/"
        },
        "id": "ldD8TnIQNXoz",
        "outputId": "c0be3836-0fa2-499c-d37f-f3167c8c3288"
      },
      "execution_count": 23,
      "outputs": [
        {
          "output_type": "stream",
          "name": "stdout",
          "text": [
            "S    644\n",
            "C    168\n",
            "Q     77\n",
            "Name: Embarked, dtype: int64\n"
          ]
        }
      ]
    },
    {
      "cell_type": "code",
      "source": [
        "item_counts = train[\"Embarked\"].value_counts()\n",
        "print(item_counts)"
      ],
      "metadata": {
        "colab": {
          "base_uri": "https://localhost:8080/"
        },
        "id": "9uN3LSdgPdRV",
        "outputId": "cd1ce828-3ec5-47ec-d09a-753934045dab"
      },
      "execution_count": 24,
      "outputs": [
        {
          "output_type": "stream",
          "name": "stdout",
          "text": [
            "S    646\n",
            "C    168\n",
            "Q     77\n",
            "Name: Embarked, dtype: int64\n"
          ]
        }
      ]
    },
    {
      "cell_type": "code",
      "source": [
        "#We will encode the embarked colum so that we can replace the missing ones easier\n",
        "from sklearn.preprocessing import LabelEncoder\n",
        "\n",
        "lb = LabelEncoder()\n",
        "train['Embarked'] = lb.fit_transform(train['Embarked'])\n",
        "train['Embarked']"
      ],
      "metadata": {
        "colab": {
          "base_uri": "https://localhost:8080/"
        },
        "id": "mtmw0aA6OKPo",
        "outputId": "50f171b0-eca4-47ad-ac67-73a8e419d19b"
      },
      "execution_count": 25,
      "outputs": [
        {
          "output_type": "execute_result",
          "data": {
            "text/plain": [
              "0      2\n",
              "1      0\n",
              "2      2\n",
              "3      2\n",
              "4      2\n",
              "      ..\n",
              "886    2\n",
              "887    2\n",
              "888    2\n",
              "889    0\n",
              "890    1\n",
              "Name: Embarked, Length: 891, dtype: int64"
            ]
          },
          "metadata": {},
          "execution_count": 25
        }
      ]
    },
    {
      "cell_type": "code",
      "source": [
        "test.info()#Well do something similar and sort out age and fare only\n"
      ],
      "metadata": {
        "colab": {
          "base_uri": "https://localhost:8080/"
        },
        "id": "46Ny1ATzRsBl",
        "outputId": "f1830b6f-eb09-40b7-85fc-3f788e8218c4"
      },
      "execution_count": 40,
      "outputs": [
        {
          "output_type": "stream",
          "name": "stdout",
          "text": [
            "<class 'pandas.core.frame.DataFrame'>\n",
            "RangeIndex: 418 entries, 0 to 417\n",
            "Data columns (total 11 columns):\n",
            " #   Column       Non-Null Count  Dtype  \n",
            "---  ------       --------------  -----  \n",
            " 0   PassengerId  418 non-null    int64  \n",
            " 1   Pclass       418 non-null    int64  \n",
            " 2   Name         418 non-null    object \n",
            " 3   Sex          418 non-null    object \n",
            " 4   Age          332 non-null    float64\n",
            " 5   SibSp        418 non-null    int64  \n",
            " 6   Parch        418 non-null    int64  \n",
            " 7   Ticket       418 non-null    object \n",
            " 8   Fare         417 non-null    float64\n",
            " 9   Cabin        91 non-null     object \n",
            " 10  Embarked     418 non-null    object \n",
            "dtypes: float64(2), int64(4), object(5)\n",
            "memory usage: 36.0+ KB\n"
          ]
        }
      ]
    },
    {
      "cell_type": "code",
      "source": [
        "mean_age = test['Age'].mean()\n",
        "test['Age'].fillna(value=mean_age, inplace=True)\n",
        "test['Age']\n",
        "\n",
        "mean_fare = test['Fare'].mean()\n",
        "test['Fare'].fillna(value=mean_age, inplace=True)\n",
        "test['Fare']\n",
        "test.info()"
      ],
      "metadata": {
        "colab": {
          "base_uri": "https://localhost:8080/"
        },
        "id": "jF-sMDg8R7Dn",
        "outputId": "7db9b8f7-cda1-44f5-a0d7-b1ae72a02d44"
      },
      "execution_count": 41,
      "outputs": [
        {
          "output_type": "stream",
          "name": "stdout",
          "text": [
            "<class 'pandas.core.frame.DataFrame'>\n",
            "RangeIndex: 418 entries, 0 to 417\n",
            "Data columns (total 11 columns):\n",
            " #   Column       Non-Null Count  Dtype  \n",
            "---  ------       --------------  -----  \n",
            " 0   PassengerId  418 non-null    int64  \n",
            " 1   Pclass       418 non-null    int64  \n",
            " 2   Name         418 non-null    object \n",
            " 3   Sex          418 non-null    object \n",
            " 4   Age          418 non-null    float64\n",
            " 5   SibSp        418 non-null    int64  \n",
            " 6   Parch        418 non-null    int64  \n",
            " 7   Ticket       418 non-null    object \n",
            " 8   Fare         418 non-null    float64\n",
            " 9   Cabin        91 non-null     object \n",
            " 10  Embarked     418 non-null    object \n",
            "dtypes: float64(2), int64(4), object(5)\n",
            "memory usage: 36.0+ KB\n"
          ]
        }
      ]
    },
    {
      "cell_type": "code",
      "source": [
        "#Next is the encoding\n",
        "item_counts = test[\"Embarked\"].value_counts()\n",
        "print(item_counts)"
      ],
      "metadata": {
        "colab": {
          "base_uri": "https://localhost:8080/"
        },
        "id": "kOBcn0a7SHPn",
        "outputId": "3512f0d3-7533-47d1-e615-3dc0c9831a75"
      },
      "execution_count": 42,
      "outputs": [
        {
          "output_type": "stream",
          "name": "stdout",
          "text": [
            "S    270\n",
            "C    102\n",
            "Q     46\n",
            "Name: Embarked, dtype: int64\n"
          ]
        }
      ]
    },
    {
      "cell_type": "code",
      "source": [
        "test['Embarked'] = lb.fit_transform(test['Embarked'])"
      ],
      "metadata": {
        "id": "lQEku9KCST1d"
      },
      "execution_count": 43,
      "outputs": []
    },
    {
      "cell_type": "markdown",
      "source": [
        "# ***Visuals!!***"
      ],
      "metadata": {
        "id": "ttF1_51_QPKt"
      }
    },
    {
      "cell_type": "code",
      "source": [
        "#Only the cabin has missing values, we will begin by doing some visuals\n",
        "sn.histplot(x=train['Survived'])"
      ],
      "metadata": {
        "colab": {
          "base_uri": "https://localhost:8080/",
          "height": 297
        },
        "id": "cLa0eMSGOubd",
        "outputId": "1837f41b-0f94-4528-82e8-7a2ba1e4c1cf"
      },
      "execution_count": 30,
      "outputs": [
        {
          "output_type": "execute_result",
          "data": {
            "text/plain": [
              "<matplotlib.axes._subplots.AxesSubplot at 0x7fe0be597250>"
            ]
          },
          "metadata": {},
          "execution_count": 30
        },
        {
          "output_type": "display_data",
          "data": {
            "image/png": "[encoded data removed]",
            "text/plain": [
              "<Figure size 432x288 with 1 Axes>"
            ]
          },
          "metadata": {
            "needs_background": "light"
          }
        }
      ]
    },
    {
      "cell_type": "code",
      "source": [
        "sn.histplot(x=train['Sex'])\n",
        "#more guys than gals in the set"
      ],
      "metadata": {
        "colab": {
          "base_uri": "https://localhost:8080/",
          "height": 299
        },
        "id": "pPxEtJyqPr0C",
        "outputId": "577cf979-4daf-4c78-b12d-9b410db21707"
      },
      "execution_count": 32,
      "outputs": [
        {
          "output_type": "execute_result",
          "data": {
            "text/plain": [
              "<matplotlib.axes._subplots.AxesSubplot at 0x7fe0bcd962d0>"
            ]
          },
          "metadata": {},
          "execution_count": 32
        },
        {
          "output_type": "display_data",
          "data": {
            "image/png": "[encoded data removed]",
            "text/plain": [
              "<Figure size 432x288 with 1 Axes>"
            ]
          },
          "metadata": {
            "needs_background": "light"
          }
        }
      ]
    },
    {
      "cell_type": "code",
      "source": [
        "sn.lineplot(x=train['Pclass'], y=train['Fare'])\n",
        "#The first class tickets were more expensive"
      ],
      "metadata": {
        "colab": {
          "base_uri": "https://localhost:8080/",
          "height": 297
        },
        "id": "dwU4IIv-Qj0k",
        "outputId": "3d961152-66b1-4085-f7cb-12872424a648"
      },
      "execution_count": 34,
      "outputs": [
        {
          "output_type": "execute_result",
          "data": {
            "text/plain": [
              "<matplotlib.axes._subplots.AxesSubplot at 0x7fe0be5301d0>"
            ]
          },
          "metadata": {},
          "execution_count": 34
        },
        {
          "output_type": "display_data",
          "data": {
            "image/png": "[encoded data removed]",
            "text/plain": [
              "<Figure size 432x288 with 1 Axes>"
            ]
          },
          "metadata": {
            "needs_background": "light"
          }
        }
      ]
    },
    {
      "cell_type": "code",
      "source": [
        "sn.countplot(x=train['Pclass'])\n",
        "#Most people were in 3rd class"
      ],
      "metadata": {
        "colab": {
          "base_uri": "https://localhost:8080/",
          "height": 297
        },
        "id": "qqvinbNkQ4ya",
        "outputId": "0d8904fa-2970-4654-deef-63d0a2dbd41a"
      },
      "execution_count": 36,
      "outputs": [
        {
          "output_type": "execute_result",
          "data": {
            "text/plain": [
              "<matplotlib.axes._subplots.AxesSubplot at 0x7fe0be5966d0>"
            ]
          },
          "metadata": {},
          "execution_count": 36
        },
        {
          "output_type": "display_data",
          "data": {
            "image/png": "[encoded data removed]",
            "text/plain": [
              "<Figure size 432x288 with 1 Axes>"
            ]
          },
          "metadata": {
            "needs_background": "light"
          }
        }
      ]
    },
    {
      "cell_type": "code",
      "source": [
        "sn.boxplot(x=train['Pclass'], y=train['Age'], palette='rainbow')\n",
        "#Distribution of Age by Passenger Class"
      ],
      "metadata": {
        "colab": {
          "base_uri": "https://localhost:8080/",
          "height": 297
        },
        "id": "5DwNVgC5RUHu",
        "outputId": "3e4aa29f-a4e0-437c-e3c4-74b69c1a809b"
      },
      "execution_count": 39,
      "outputs": [
        {
          "output_type": "execute_result",
          "data": {
            "text/plain": [
              "<matplotlib.axes._subplots.AxesSubplot at 0x7fe0bcb89350>"
            ]
          },
          "metadata": {},
          "execution_count": 39
        },
        {
          "output_type": "display_data",
          "data": {
            "image/png": "[encoded data removed]",
            "text/plain": [
              "<Figure size 432x288 with 1 Axes>"
            ]
          },
          "metadata": {
            "needs_background": "light"
          }
        }
      ]
    },
    {
      "cell_type": "code",
      "source": [
        "#Forgot to encode for sex\n",
        "train['Sex'] = lb.fit_transform(train['Sex'])\n",
        "test['Sex'] = lb.fit_transform(test['Sex'])"
      ],
      "metadata": {
        "id": "fopZP3aISndS"
      },
      "execution_count": 44,
      "outputs": []
    },
    {
      "cell_type": "code",
      "source": [
        "sn.heatmap(train.corr())"
      ],
      "metadata": {
        "colab": {
          "base_uri": "https://localhost:8080/",
          "height": 338
        },
        "id": "X6bd3NHkQU4M",
        "outputId": "7818664a-fa7b-48d0-f8cc-1fe195f1643b"
      },
      "execution_count": 49,
      "outputs": [
        {
          "output_type": "execute_result",
          "data": {
            "text/plain": [
              "<matplotlib.axes._subplots.AxesSubplot at 0x7fe0bc3cce50>"
            ]
          },
          "metadata": {},
          "execution_count": 49
        },
        {
          "output_type": "display_data",
          "data": {
            "image/png": "[encoded data removed]",
            "text/plain": [
              "<Figure size 432x288 with 2 Axes>"
            ]
          },
          "metadata": {
            "needs_background": "light"
          }
        }
      ]
    },
    {
      "cell_type": "code",
      "source": [
        "sn.heatmap(test.corr())"
      ],
      "metadata": {
        "colab": {
          "base_uri": "https://localhost:8080/",
          "height": 338
        },
        "id": "nxATl1qwT_Lv",
        "outputId": "13bbf5af-a926-48ed-e6f9-33bd5bfb72e4"
      },
      "execution_count": 50,
      "outputs": [
        {
          "output_type": "execute_result",
          "data": {
            "text/plain": [
              "<matplotlib.axes._subplots.AxesSubplot at 0x7fe0bcc12a50>"
            ]
          },
          "metadata": {},
          "execution_count": 50
        },
        {
          "output_type": "display_data",
          "data": {
            "image/png": "[encoded data removed]",
            "text/plain": [
              "<Figure size 432x288 with 2 Axes>"
            ]
          },
          "metadata": {
            "needs_background": "light"
          }
        }
      ]
    },
    {
      "cell_type": "markdown",
      "source": [
        "# Onto the reason we are here, **Modeling**"
      ],
      "metadata": {
        "id": "QSuzOwmBSwz3"
      }
    },
    {
      "cell_type": "code",
      "source": [
        "X = train.drop(['PassengerId','Survived','Name','Ticket','Cabin'], axis = 1)\n",
        "y = train['Survived']"
      ],
      "metadata": {
        "id": "UagGxLSuTYYf"
      },
      "execution_count": 47,
      "outputs": []
    },
    {
      "cell_type": "code",
      "source": [
        "#Starting with 80/20\n",
        "from sklearn.model_selection import train_test_split\n",
        "X_train, X_test, y_train, y_test = train_test_split(X, y, test_size=0.20)"
      ],
      "metadata": {
        "id": "JUeMne6cSwcW"
      },
      "execution_count": 48,
      "outputs": []
    },
    {
      "cell_type": "code",
      "source": [
        "#Training the model with 5 neighbours - our vanilla vesion\n",
        "from sklearn.neighbors import KNeighborsClassifier\n",
        "classifier = KNeighborsClassifier(n_neighbors=5)\n",
        "classifier.fit(X_train, y_train)\n"
      ],
      "metadata": {
        "colab": {
          "base_uri": "https://localhost:8080/"
        },
        "id": "-TU1BOHXQgZx",
        "outputId": "1e9e2dbf-2a20-4973-94ab-5e4161773c86"
      },
      "execution_count": 51,
      "outputs": [
        {
          "output_type": "execute_result",
          "data": {
            "text/plain": [
              "KNeighborsClassifier()"
            ]
          },
          "metadata": {},
          "execution_count": 51
        }
      ]
    },
    {
      "cell_type": "code",
      "source": [
        "y_pred = classifier.predict(X_test)"
      ],
      "metadata": {
        "id": "fVXcpCUUUVgl"
      },
      "execution_count": 52,
      "outputs": []
    },
    {
      "cell_type": "code",
      "source": [
        "from sklearn.metrics import classification_report, confusion_matrix\n",
        "confusion_matrix(y_test, y_pred)"
      ],
      "metadata": {
        "colab": {
          "base_uri": "https://localhost:8080/"
        },
        "id": "PjdS7Gh3UXzA",
        "outputId": "4cdff5cc-36c1-4301-82b2-bed833f70f34"
      },
      "execution_count": 53,
      "outputs": [
        {
          "output_type": "stream",
          "name": "stdout",
          "text": [
            "[[91 19]\n",
            " [39 30]]\n"
          ]
        }
      ]
    },
    {
      "cell_type": "code",
      "source": [
        "classification_report(y_test, y_pred)"
      ],
      "metadata": {
        "colab": {
          "base_uri": "https://localhost:8080/"
        },
        "id": "dtkqxcHVUb4M",
        "outputId": "5e8a25e3-fe83-4d83-f7fd-b013f5899d2b"
      },
      "execution_count": 54,
      "outputs": [
        {
          "output_type": "stream",
          "name": "stdout",
          "text": [
            "              precision    recall  f1-score   support\n",
            "\n",
            "           0       0.70      0.83      0.76       110\n",
            "           1       0.61      0.43      0.51        69\n",
            "\n",
            "    accuracy                           0.68       179\n",
            "   macro avg       0.66      0.63      0.63       179\n",
            "weighted avg       0.67      0.68      0.66       179\n",
            "\n"
          ]
        }
      ]
    },
    {
      "cell_type": "markdown",
      "source": [
        "The level of accuracy is around ~63%, lets see what we can do to improve it"
      ],
      "metadata": {
        "id": "ao0_QfdnUkSt"
      }
    },
    {
      "cell_type": "code",
      "source": [
        "test2 = test.drop(['PassengerId','Name','Ticket','Cabin'],axis = 1)"
      ],
      "metadata": {
        "id": "9E3_C5MXWzxX"
      },
      "execution_count": null,
      "outputs": []
    },
    {
      "cell_type": "code",
      "source": [
        "#Finding the best value for n neighbours\n",
        "classifier = KNeighborsClassifier(n_neighbors=31)\n",
        "classifier.fit(X_train, y_train)\n",
        "y_pred = classifier.predict(X_test)\n",
        "#31 one gives a good level for n with 73% accuracy"
      ],
      "metadata": {
        "id": "VKsyFG_3UfGK"
      },
      "execution_count": 92,
      "outputs": []
    },
    {
      "cell_type": "code",
      "source": [
        "confusion_matrix(y_test, y_pred)"
      ],
      "metadata": {
        "colab": {
          "base_uri": "https://localhost:8080/"
        },
        "id": "KPbtejOBWRXv",
        "outputId": "ada1bf7d-0039-42c4-c489-24c9ecfe0bd3"
      },
      "execution_count": 93,
      "outputs": [
        {
          "output_type": "execute_result",
          "data": {
            "text/plain": [
              "array([[101,   9],\n",
              "       [ 39,  30]])"
            ]
          },
          "metadata": {},
          "execution_count": 93
        }
      ]
    },
    {
      "cell_type": "code",
      "source": [
        "print(classification_report(y_test, y_pred))"
      ],
      "metadata": {
        "colab": {
          "base_uri": "https://localhost:8080/"
        },
        "id": "YL4NFFH2WmiU",
        "outputId": "0497875b-9793-412d-8c3e-0679ca8d5afb"
      },
      "execution_count": 94,
      "outputs": [
        {
          "output_type": "stream",
          "name": "stdout",
          "text": [
            "              precision    recall  f1-score   support\n",
            "\n",
            "           0       0.72      0.92      0.81       110\n",
            "           1       0.77      0.43      0.56        69\n",
            "\n",
            "    accuracy                           0.73       179\n",
            "   macro avg       0.75      0.68      0.68       179\n",
            "weighted avg       0.74      0.73      0.71       179\n",
            "\n"
          ]
        }
      ]
    },
    {
      "cell_type": "code",
      "source": [
        "#Lets attempt to shuffle the split \n",
        "X_train, X_test, y_train, y_test = train_test_split(X, y, test_size=0.30)\n",
        "classifier = KNeighborsClassifier(n_neighbors=31)\n",
        "classifier.fit(X_train, y_train)\n",
        "y_pred = classifier.predict(X_test)"
      ],
      "metadata": {
        "id": "y0_7Nj3uXIVn"
      },
      "execution_count": 97,
      "outputs": []
    },
    {
      "cell_type": "code",
      "source": [
        "confusion_matrix(y_test, y_pred)\n",
        "#better results in the confusion matrix but less accuracy"
      ],
      "metadata": {
        "colab": {
          "base_uri": "https://localhost:8080/"
        },
        "id": "zEfRGnKpYWbA",
        "outputId": "05a2a924-cf14-4a59-d082-0e194b15fb4f"
      },
      "execution_count": 98,
      "outputs": [
        {
          "output_type": "execute_result",
          "data": {
            "text/plain": [
              "array([[144,  20],\n",
              "       [ 68,  36]])"
            ]
          },
          "metadata": {},
          "execution_count": 98
        }
      ]
    },
    {
      "cell_type": "code",
      "source": [
        "print(classification_report(y_test, y_pred))"
      ],
      "metadata": {
        "colab": {
          "base_uri": "https://localhost:8080/"
        },
        "id": "cXgQ12Y-YWwZ",
        "outputId": "d346c733-f622-4e88-8a32-b2acbfc4f433"
      },
      "execution_count": 99,
      "outputs": [
        {
          "output_type": "stream",
          "name": "stdout",
          "text": [
            "              precision    recall  f1-score   support\n",
            "\n",
            "           0       0.68      0.88      0.77       164\n",
            "           1       0.64      0.35      0.45       104\n",
            "\n",
            "    accuracy                           0.67       268\n",
            "   macro avg       0.66      0.61      0.61       268\n",
            "weighted avg       0.67      0.67      0.64       268\n",
            "\n"
          ]
        }
      ]
    },
    {
      "cell_type": "code",
      "source": [
        "X_train, X_test, y_train, y_test = train_test_split(X, y, test_size=0.40)\n",
        "classifier = KNeighborsClassifier(n_neighbors=31)\n",
        "classifier.fit(X_train, y_train)\n",
        "y_pred = classifier.predict(X_test)"
      ],
      "metadata": {
        "id": "KB1aMRJVYaN4"
      },
      "execution_count": 100,
      "outputs": []
    },
    {
      "cell_type": "code",
      "source": [
        "confusion_matrix(y_test, y_pred)"
      ],
      "metadata": {
        "colab": {
          "base_uri": "https://localhost:8080/"
        },
        "id": "Yyb78uIhYmgE",
        "outputId": "002e0741-73c8-4b6e-e9b9-5fde5522c787"
      },
      "execution_count": 101,
      "outputs": [
        {
          "output_type": "execute_result",
          "data": {
            "text/plain": [
              "array([[179,  42],\n",
              "       [ 73,  63]])"
            ]
          },
          "metadata": {},
          "execution_count": 101
        }
      ]
    },
    {
      "cell_type": "code",
      "source": [
        "print(classification_report(y_test, y_pred))\n",
        "#the accuracy level has come down"
      ],
      "metadata": {
        "colab": {
          "base_uri": "https://localhost:8080/"
        },
        "id": "pHJn2bAmYn45",
        "outputId": "6f706b38-38ad-4506-df0d-6b28d6598244"
      },
      "execution_count": 102,
      "outputs": [
        {
          "output_type": "stream",
          "name": "stdout",
          "text": [
            "              precision    recall  f1-score   support\n",
            "\n",
            "           0       0.71      0.81      0.76       221\n",
            "           1       0.60      0.46      0.52       136\n",
            "\n",
            "    accuracy                           0.68       357\n",
            "   macro avg       0.66      0.64      0.64       357\n",
            "weighted avg       0.67      0.68      0.67       357\n",
            "\n"
          ]
        }
      ]
    },
    {
      "cell_type": "markdown",
      "source": [
        "# Optimization "
      ],
      "metadata": {
        "id": "kpq2GN95YxHA"
      }
    },
    {
      "cell_type": "code",
      "source": [
        "#Feature scaling\n",
        "# We now need to perform feature scaling. We execute the following code to do so:\n",
        "# \n",
        "from sklearn.preprocessing import StandardScaler\n",
        "sc = StandardScaler()\n",
        "X_train = sc.fit_transform(X_train)\n",
        "X_test = sc.transform(X_test)"
      ],
      "metadata": {
        "id": "gB_k5xfzYpgJ"
      },
      "execution_count": 104,
      "outputs": []
    },
    {
      "cell_type": "code",
      "source": [
        "from sklearn.discriminant_analysis import LinearDiscriminantAnalysis as LDA\n",
        "lda = LDA(n_components=1)\n",
        "X_train = lda.fit_transform(X_train, y_train)\n",
        "X_test = lda.transform(X_test)"
      ],
      "metadata": {
        "id": "Hmwi7yIcdE8R"
      },
      "execution_count": 114,
      "outputs": []
    },
    {
      "cell_type": "code",
      "source": [
        "X_train, X_test, y_train, y_test = train_test_split(X, y, test_size=0.20)\n",
        "classifier = KNeighborsClassifier(n_neighbors=31)\n",
        "classifier.fit(X_train, y_train)\n",
        "y_pred = classifier.predict(X_test)"
      ],
      "metadata": {
        "id": "x_CsqSe9dL9B"
      },
      "execution_count": 118,
      "outputs": []
    },
    {
      "cell_type": "code",
      "source": [
        "confusion_matrix(y_test, y_pred)"
      ],
      "metadata": {
        "colab": {
          "base_uri": "https://localhost:8080/"
        },
        "id": "Ghrtmze0dMXU",
        "outputId": "ae424840-9c2e-44af-c7e8-1220cf1a9822"
      },
      "execution_count": 119,
      "outputs": [
        {
          "output_type": "execute_result",
          "data": {
            "text/plain": [
              "array([[101,  14],\n",
              "       [ 36,  28]])"
            ]
          },
          "metadata": {},
          "execution_count": 119
        }
      ]
    },
    {
      "cell_type": "code",
      "source": [
        "print(classification_report(y_test, y_pred))\n",
        "#The accuracy is around 72% with the optmization techiques"
      ],
      "metadata": {
        "colab": {
          "base_uri": "https://localhost:8080/"
        },
        "id": "LlY5O4d0dNz7",
        "outputId": "94dcf3df-b3a6-41d4-dfcd-48984c2c2978"
      },
      "execution_count": 120,
      "outputs": [
        {
          "output_type": "stream",
          "name": "stdout",
          "text": [
            "              precision    recall  f1-score   support\n",
            "\n",
            "           0       0.74      0.88      0.80       115\n",
            "           1       0.67      0.44      0.53        64\n",
            "\n",
            "    accuracy                           0.72       179\n",
            "   macro avg       0.70      0.66      0.66       179\n",
            "weighted avg       0.71      0.72      0.70       179\n",
            "\n"
          ]
        }
      ]
    },
    {
      "cell_type": "markdown",
      "source": [
        "Using LDA did not have a very large impact on the accuracy, i believe the issue is not having enough training data, ill comnine the 2 sets below and see"
      ],
      "metadata": {
        "id": "7r78ahiGd7LQ"
      }
    },
    {
      "cell_type": "code",
      "source": [
        "both = pd.concat([train,test])\n",
        "both.info()"
      ],
      "metadata": {
        "colab": {
          "base_uri": "https://localhost:8080/"
        },
        "id": "ZVyzp0ybdPiF",
        "outputId": "436e7289-0924-4776-cef7-f92c8c849feb"
      },
      "execution_count": 128,
      "outputs": [
        {
          "output_type": "stream",
          "name": "stdout",
          "text": [
            "<class 'pandas.core.frame.DataFrame'>\n",
            "Int64Index: 1309 entries, 0 to 417\n",
            "Data columns (total 12 columns):\n",
            " #   Column       Non-Null Count  Dtype  \n",
            "---  ------       --------------  -----  \n",
            " 0   PassengerId  1309 non-null   int64  \n",
            " 1   Survived     891 non-null    float64\n",
            " 2   Pclass       1309 non-null   int64  \n",
            " 3   Name         1309 non-null   object \n",
            " 4   Sex          1309 non-null   int64  \n",
            " 5   Age          1309 non-null   float64\n",
            " 6   SibSp        1309 non-null   int64  \n",
            " 7   Parch        1309 non-null   int64  \n",
            " 8   Ticket       1309 non-null   object \n",
            " 9   Fare         1309 non-null   float64\n",
            " 10  Cabin        295 non-null    object \n",
            " 11  Embarked     1309 non-null   int64  \n",
            "dtypes: float64(3), int64(6), object(3)\n",
            "memory usage: 132.9+ KB\n"
          ]
        }
      ]
    },
    {
      "cell_type": "code",
      "source": [
        "#After some rough cleaning\n",
        "both['Survived'].fillna(value=0, inplace=True)\n",
        "both['Survived']"
      ],
      "metadata": {
        "colab": {
          "base_uri": "https://localhost:8080/"
        },
        "id": "WUGqAaU_eSYz",
        "outputId": "35d3470f-f94a-4777-a4ba-7f9e7c1bab51"
      },
      "execution_count": 130,
      "outputs": [
        {
          "output_type": "execute_result",
          "data": {
            "text/plain": [
              "0      0.0\n",
              "1      1.0\n",
              "2      1.0\n",
              "3      1.0\n",
              "4      0.0\n",
              "      ... \n",
              "413    0.0\n",
              "414    0.0\n",
              "415    0.0\n",
              "416    0.0\n",
              "417    0.0\n",
              "Name: Survived, Length: 1309, dtype: float64"
            ]
          },
          "metadata": {},
          "execution_count": 130
        }
      ]
    },
    {
      "cell_type": "code",
      "source": [
        "X = both.drop(['PassengerId','Survived','Name','Ticket', 'Cabin'], axis = 1)\n",
        "y = both['Survived']"
      ],
      "metadata": {
        "id": "VXyrc2veelv1"
      },
      "execution_count": 131,
      "outputs": []
    },
    {
      "cell_type": "code",
      "source": [
        "X_train, X_test, y_train, y_test = train_test_split(X, y, test_size=0.20)\n",
        "X_train = sc.fit_transform(X_train)\n",
        "X_test = sc.transform(X_test)"
      ],
      "metadata": {
        "id": "CKeXtJSLgpGg"
      },
      "execution_count": 132,
      "outputs": []
    },
    {
      "cell_type": "code",
      "source": [
        "lda = LDA(n_components=1)\n",
        "X_train = lda.fit_transform(X_train, y_train)\n",
        "X_test = lda.transform(X_test)"
      ],
      "metadata": {
        "id": "amiYe5yMgw1Y"
      },
      "execution_count": 133,
      "outputs": []
    },
    {
      "cell_type": "code",
      "source": [
        "classifier = KNeighborsClassifier(n_neighbors=31)\n",
        "classifier.fit(X_train, y_train)\n",
        "y_pred = classifier.predict(X_test)"
      ],
      "metadata": {
        "id": "GpuG9VNCgzuy"
      },
      "execution_count": 134,
      "outputs": []
    },
    {
      "cell_type": "code",
      "source": [
        "confusion_matrix(y_test, y_pred)"
      ],
      "metadata": {
        "colab": {
          "base_uri": "https://localhost:8080/"
        },
        "id": "7oAHvuNdg2Ky",
        "outputId": "00582993-f368-48b2-a59c-b97b208885e8"
      },
      "execution_count": 135,
      "outputs": [
        {
          "output_type": "execute_result",
          "data": {
            "text/plain": [
              "array([[176,  24],\n",
              "       [ 29,  33]])"
            ]
          },
          "metadata": {},
          "execution_count": 135
        }
      ]
    },
    {
      "cell_type": "code",
      "source": [
        "print(classification_report(y_test, y_pred))"
      ],
      "metadata": {
        "colab": {
          "base_uri": "https://localhost:8080/"
        },
        "id": "p8-tr6ing4d6",
        "outputId": "7d1e556a-7569-4996-aa72-6a3fe9850c0e"
      },
      "execution_count": 136,
      "outputs": [
        {
          "output_type": "stream",
          "name": "stdout",
          "text": [
            "              precision    recall  f1-score   support\n",
            "\n",
            "         0.0       0.86      0.88      0.87       200\n",
            "         1.0       0.58      0.53      0.55        62\n",
            "\n",
            "    accuracy                           0.80       262\n",
            "   macro avg       0.72      0.71      0.71       262\n",
            "weighted avg       0.79      0.80      0.79       262\n",
            "\n"
          ]
        }
      ]
    },
    {
      "cell_type": "markdown",
      "source": [
        "Theres been a 8% increase in accuracy when using the combined set "
      ],
      "metadata": {
        "id": "dV8WyVWcg-Wr"
      }
    },
    {
      "cell_type": "code",
      "source": [
        "W"
      ],
      "metadata": {
        "id": "VAA4VROJg71u"
      },
      "execution_count": null,
      "outputs": []
    }
  ]
}